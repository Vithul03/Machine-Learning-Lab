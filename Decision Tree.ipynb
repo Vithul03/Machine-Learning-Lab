{
 "cells": [
  {
   "cell_type": "code",
   "execution_count": null,
   "id": "e2752cf6-cf7b-4380-9ee8-490a7d0d98bc",
   "metadata": {},
   "outputs": [],
   "source": [
    "   import pandas as pd \n",
    "import numpy as np \n",
    "from sklearn.model_selection import train_test_split \n",
    "from sklearn.tree import DecisionTreeClassifier \n",
    "from sklearn.metrics import \n",
    "confusion_matrix,accuracy_score,precision_score,recall_score,f1_score"
   ]
  },
  {
   "cell_type": "code",
   "execution_count": null,
   "id": "7e56c5f4-95a9-4fe9-be93-7de42d2b9c25",
   "metadata": {},
   "outputs": [],
   "source": [
    "data=pd.read_csv(\"DecisionTree_TargetIncome.csv\") \n",
    "print(\"the First 5 values of data is :\\n\") \n",
    "data.head()"
   ]
  },
  {
   "cell_type": "code",
   "execution_count": null,
   "id": "f23612b9-127f-46eb-be1e-e51e5640de43",
   "metadata": {},
   "outputs": [],
   "source": [
    "data=pd.get_dummies(data, columns=['Gender'],drop_first=True)"
   ]
  },
  {
   "cell_type": "code",
   "execution_count": null,
   "id": "ee699761-97f0-4da7-85cd-2e144ec3cd2d",
   "metadata": {},
   "outputs": [],
   "source": [
    "print(data.columns) \n"
   ]
  },
  {
   "cell_type": "code",
   "execution_count": null,
   "id": "75e9a3de-975c-46a9-a1d3-331dd0e1ac54",
   "metadata": {},
   "outputs": [],
   "source": [
    "X =data.drop('TargetVariable',axis=1) \n",
    "y = data['TargetVariable']"
   ]
  },
  {
   "cell_type": "code",
   "execution_count": null,
   "id": "a6d0669a-79f7-42bf-8771-930c9575c441",
   "metadata": {},
   "outputs": [],
   "source": [
    "X_train, X_test, y_train, y_test = train_test_split(X, y, test_size=0.25, random_state=0) \n",
    "classifier=DecisionTreeClassifier(random_state=0) \n",
    "classifier.fit(X_train, y_train) "
   ]
  },
  {
   "cell_type": "code",
   "execution_count": null,
   "id": "7e15885c-63b8-4697-ace7-46495f31b3fc",
   "metadata": {},
   "outputs": [],
   "source": [
    "y_pred=classifier.predict(X_test) "
   ]
  },
  {
   "cell_type": "code",
   "execution_count": null,
   "id": "9302011a-a4e6-4e43-925a-1aba41a335d8",
   "metadata": {},
   "outputs": [],
   "source": [
    "cm=confusion_matrix(y_test,y_pred) \n",
    "accuracy=accuracy_score(y_test,y_pred) \n",
    "precision=precision_score(y_test,y_pred) \n",
    "recall=recall_score(y_test,y_pred) \n",
    "f1=f1_score(y_test,y_pred)"
   ]
  },
  {
   "cell_type": "code",
   "execution_count": null,
   "id": "f13e6191-386e-46e5-8909-4be76a6bff5d",
   "metadata": {},
   "outputs": [],
   "source": [
    "print(f\"Confusion Matrix :\\n\",cm) \n",
    "print(f\"Accuracy :{accuracy:.2f}\") \n",
    "print(f\"Precision :{precision:.2f}\") \n",
    "print(f\"Recall :{recall:.2f}\") \n",
    "print(f\"F1 score :{f1:.2f}\")"
   ]
  }
 ],
 "metadata": {
  "kernelspec": {
   "display_name": "Python 3 (ipykernel)",
   "language": "python",
   "name": "python3"
  },
  "language_info": {
   "codemirror_mode": {
    "name": "ipython",
    "version": 3
   },
   "file_extension": ".py",
   "mimetype": "text/x-python",
   "name": "python",
   "nbconvert_exporter": "python",
   "pygments_lexer": "ipython3",
   "version": "3.11.7"
  }
 },
 "nbformat": 4,
 "nbformat_minor": 5
}
