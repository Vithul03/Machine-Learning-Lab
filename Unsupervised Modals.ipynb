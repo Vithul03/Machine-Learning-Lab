{
 "cells": [
  {
   "cell_type": "code",
   "execution_count": 1,
   "id": "d4a3f9fa-b353-48a2-9549-41ea1ad42aec",
   "metadata": {},
   "outputs": [
    {
     "name": "stdout",
     "output_type": "stream",
     "text": [
      "Collecting torch\n",
      "  Using cached torch-2.5.1-cp311-cp311-win_amd64.whl.metadata (28 kB)\n",
      "Requirement already satisfied: filelock in c:\\users\\msi\\anaconda3\\lib\\site-packages (from torch) (3.13.1)\n",
      "Requirement already satisfied: typing-extensions>=4.8.0 in c:\\users\\msi\\anaconda3\\lib\\site-packages (from torch) (4.9.0)\n",
      "Requirement already satisfied: networkx in c:\\users\\msi\\anaconda3\\lib\\site-packages (from torch) (3.1)\n",
      "Requirement already satisfied: jinja2 in c:\\users\\msi\\anaconda3\\lib\\site-packages (from torch) (3.1.3)\n",
      "Requirement already satisfied: fsspec in c:\\users\\msi\\anaconda3\\lib\\site-packages (from torch) (2023.10.0)\n",
      "Requirement already satisfied: sympy==1.13.1 in c:\\users\\msi\\anaconda3\\lib\\site-packages (from torch) (1.13.1)\n",
      "Requirement already satisfied: mpmath<1.4,>=1.1.0 in c:\\users\\msi\\anaconda3\\lib\\site-packages (from sympy==1.13.1->torch) (1.3.0)\n",
      "Requirement already satisfied: MarkupSafe>=2.0 in c:\\users\\msi\\anaconda3\\lib\\site-packages (from jinja2->torch) (2.1.3)\n",
      "Using cached torch-2.5.1-cp311-cp311-win_amd64.whl (203.1 MB)\n",
      "Installing collected packages: torch\n",
      "Successfully installed torch-2.5.1\n",
      "Note: you may need to restart the kernel to use updated packages.\n"
     ]
    }
   ],
   "source": [
    "pip install torch\n"
   ]
  },
  {
   "cell_type": "code",
   "execution_count": 1,
   "id": "b8c51ad9-673e-4cbc-8a70-4289391120d1",
   "metadata": {},
   "outputs": [],
   "source": [
    " import pandas as pd \n",
    "from sklearn.datasets import load_iris \n",
    "from sklearn.preprocessing import StandardScaler"
   ]
  },
  {
   "cell_type": "code",
   "execution_count": 2,
   "id": "3b184167-29d1-48a5-a503-235d704df153",
   "metadata": {},
   "outputs": [],
   "source": [
    "iris=load_iris() \n",
    "X=pd.DataFrame(iris.data,columns=iris.feature_names)"
   ]
  },
  {
   "cell_type": "code",
   "execution_count": 3,
   "id": "a4834387-3f70-4e40-a2b8-70e04eb23cb9",
   "metadata": {},
   "outputs": [],
   "source": [
    "Scaler=StandardScaler() \n",
    "X_Scaled=Scaler.fit_transform(X) "
   ]
  },
  {
   "cell_type": "code",
   "execution_count": 4,
   "id": "dd117947-3f81-4a09-99f6-26afd7a67711",
   "metadata": {},
   "outputs": [
    {
     "name": "stderr",
     "output_type": "stream",
     "text": [
      "C:\\Users\\MSi\\anaconda3\\Lib\\site-packages\\sklearn\\cluster\\_kmeans.py:870: FutureWarning: The default value of `n_init` will change from 10 to 'auto' in 1.4. Set the value of `n_init` explicitly to suppress the warning\n",
      "  warnings.warn(\n",
      "C:\\Users\\MSi\\anaconda3\\Lib\\site-packages\\sklearn\\cluster\\_kmeans.py:1382: UserWarning: KMeans is known to have a memory leak on Windows with MKL, when there are less chunks than available threads. You can avoid it by setting the environment variable OMP_NUM_THREADS=1.\n",
      "  warnings.warn(\n"
     ]
    }
   ],
   "source": [
    "from sklearn.cluster import KMeans \n",
    "from sklearn.metrics import silhouette_score \n",
    "kmeans=KMeans(n_clusters=3,random_state=42) \n",
    "kmeans_labels=kmeans.fit_predict(X_Scaled)"
   ]
  },
  {
   "cell_type": "code",
   "execution_count": 5,
   "id": "7fdc2bf6-1441-4075-b1ed-31f04c5e176f",
   "metadata": {},
   "outputs": [
    {
     "name": "stdout",
     "output_type": "stream",
     "text": [
      "K-Means Silhouette Score: 0.45994823920518635\n"
     ]
    }
   ],
   "source": [
    "kmeans_silhouette=silhouette_score(X_Scaled, kmeans_labels) \n",
    "print(f'K-Means Silhouette Score: {kmeans_silhouette}')"
   ]
  },
  {
   "cell_type": "code",
   "execution_count": 6,
   "id": "07d5c4c5-7fd4-4932-9aeb-6c1b0d5295a7",
   "metadata": {},
   "outputs": [],
   "source": [
    "import torch \n",
    "import torch.nn as nn \n",
    "import torch.optim as optim \n",
    "from torch.utils.data import DataLoader, TensorDataset \n",
    "X_tensor=torch.tensor(X_Scaled, dtype=torch.float32) "
   ]
  },
  {
   "cell_type": "code",
   "execution_count": 7,
   "id": "f376362e-9c4b-41db-8ab4-9c1a568e384e",
   "metadata": {},
   "outputs": [],
   "source": [
    "data_loader=DataLoader(TensorDataset(X_tensor),batch_size=16,shuffle=True) \n"
   ]
  },
  {
   "cell_type": "code",
   "execution_count": 8,
   "id": "c4b6973d-138e-4972-9320-c42402dd8d61",
   "metadata": {},
   "outputs": [],
   "source": [
    "class Autoencoder(nn.Module): \n",
    "    def __init__(self): \n",
    "        super(Autoencoder, self).__init__() \n",
    "        self.encoder=nn.Sequential( \n",
    "            nn.Linear(4,2), \n",
    "            nn.ReLU() \n",
    "        ) \n",
    "        self.decoder=nn.Sequential( \n",
    "            nn.Linear(2,4), \n",
    "            nn.ReLU() \n",
    "        ) \n",
    "    def forward(self,x): \n",
    "        encoded=self.encoder(x) \n",
    "        decoded=self.decoder(encoded) \n",
    "        return decoded"
   ]
  },
  {
   "cell_type": "code",
   "execution_count": 9,
   "id": "0a61052e-9909-40fd-af98-9bb9ef75c3f7",
   "metadata": {},
   "outputs": [],
   "source": [
    "autoencoder=Autoencoder() \n",
    "criterion=nn.MSELoss() \n",
    "optimizer=optim.Adam(autoencoder.parameters(),lr=0.01)"
   ]
  },
  {
   "cell_type": "code",
   "execution_count": 10,
   "id": "6b02ea13-63a0-48d5-8c9b-c657db2bc6dd",
   "metadata": {},
   "outputs": [],
   "source": [
    "num_epochs=100 \n",
    "for epoch in range(num_epochs): \n",
    "    for data in data_loader: \n",
    "        inputs, =data \n",
    "        optimizer.zero_grad() \n",
    "        outputs=autoencoder(inputs) \n",
    "        loss=criterion(outputs, inputs) \n",
    "        loss.backward() \n",
    "        optimizer.step()"
   ]
  },
  {
   "cell_type": "code",
   "execution_count": 11,
   "id": "6ae4877f-4ad3-4767-90dd-0becf75cc98a",
   "metadata": {},
   "outputs": [],
   "source": [
    "with torch.no_grad(): \n",
    "    encoded_data=autoencoder.encoder(X_tensor).numpy()"
   ]
  },
  {
   "cell_type": "code",
   "execution_count": 12,
   "id": "5be34710-89ec-4eac-af10-363382b2c3c4",
   "metadata": {},
   "outputs": [
    {
     "name": "stderr",
     "output_type": "stream",
     "text": [
      "C:\\Users\\MSi\\anaconda3\\Lib\\site-packages\\sklearn\\cluster\\_kmeans.py:870: FutureWarning: The default value of `n_init` will change from 10 to 'auto' in 1.4. Set the value of `n_init` explicitly to suppress the warning\n",
      "  warnings.warn(\n",
      "C:\\Users\\MSi\\anaconda3\\Lib\\site-packages\\sklearn\\cluster\\_kmeans.py:1382: UserWarning: KMeans is known to have a memory leak on Windows with MKL, when there are less chunks than available threads. You can avoid it by setting the environment variable OMP_NUM_THREADS=1.\n",
      "  warnings.warn(\n"
     ]
    }
   ],
   "source": [
    "encoded_kmeans=KMeans(n_clusters=3,random_state=42) \n",
    "encoded_kmeans_labels=encoded_kmeans.fit_predict(encoded_data)"
   ]
  },
  {
   "cell_type": "code",
   "execution_count": 13,
   "id": "79ff0f6d-f80c-4869-adc5-236c150bffd6",
   "metadata": {},
   "outputs": [
    {
     "name": "stdout",
     "output_type": "stream",
     "text": [
      "Autoencoder + kmeans silhouette score : 0.19391532447906698\n"
     ]
    }
   ],
   "source": [
    "encoded_silhouette = silhouette_score(X_Scaled, encoded_kmeans_labels) \n",
    "print(f'Autoencoder + kmeans silhouette score : {encoded_silhouette}') "
   ]
  }
 ],
 "metadata": {
  "kernelspec": {
   "display_name": "Python 3 (ipykernel)",
   "language": "python",
   "name": "python3"
  },
  "language_info": {
   "codemirror_mode": {
    "name": "ipython",
    "version": 3
   },
   "file_extension": ".py",
   "mimetype": "text/x-python",
   "name": "python",
   "nbconvert_exporter": "python",
   "pygments_lexer": "ipython3",
   "version": "3.11.7"
  }
 },
 "nbformat": 4,
 "nbformat_minor": 5
}
